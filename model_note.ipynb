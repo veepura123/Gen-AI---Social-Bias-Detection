{
 "cells": [
  {
   "cell_type": "code",
   "execution_count": 13,
   "metadata": {},
   "outputs": [],
   "source": [
    "import tensorflow as tf\n",
    "from tensorflow import keras\n",
    "from transformers import TFBertForSequenceClassification, BertTokenizer, TFBertModel\n",
    "import pandas as pd\n",
    "import numpy as np\n",
    "\n",
    "from utils import load_sbic_dataset, load_validation_dataset"
   ]
  },
  {
   "cell_type": "markdown",
   "metadata": {},
   "source": [
    "# Train the Model for SBIC dataset Using pretrained model bert"
   ]
  },
  {
   "cell_type": "code",
   "execution_count": 2,
   "metadata": {},
   "outputs": [],
   "source": [
    "train_data = pd.read_csv(\"datasets/SBIC_train_processed.csv\")\n",
    "test_data = pd.read_csv(\"datasets/SBIC_test_processed.csv\")\n",
    "dev_data = pd.read_csv(\"datasets/SBIC_dev_processed.csv\")"
   ]
  },
  {
   "cell_type": "code",
   "execution_count": 3,
   "metadata": {},
   "outputs": [
    {
     "data": {
      "text/html": [
       "<div>\n",
       "<style scoped>\n",
       "    .dataframe tbody tr th:only-of-type {\n",
       "        vertical-align: middle;\n",
       "    }\n",
       "\n",
       "    .dataframe tbody tr th {\n",
       "        vertical-align: top;\n",
       "    }\n",
       "\n",
       "    .dataframe thead th {\n",
       "        text-align: right;\n",
       "    }\n",
       "</style>\n",
       "<table border=\"1\" class=\"dataframe\">\n",
       "  <thead>\n",
       "    <tr style=\"text-align: right;\">\n",
       "      <th></th>\n",
       "      <th>post</th>\n",
       "      <th>targetCategory_body</th>\n",
       "      <th>targetCategory_culture</th>\n",
       "      <th>targetCategory_disabled</th>\n",
       "      <th>targetCategory_gender</th>\n",
       "      <th>targetCategory_race</th>\n",
       "      <th>targetCategory_social</th>\n",
       "      <th>targetCategory_victim</th>\n",
       "    </tr>\n",
       "  </thead>\n",
       "  <tbody>\n",
       "    <tr>\n",
       "      <th>0</th>\n",
       "      <td>bitch probably molly'd the 1st nigga that said...</td>\n",
       "      <td>False</td>\n",
       "      <td>False</td>\n",
       "      <td>False</td>\n",
       "      <td>True</td>\n",
       "      <td>False</td>\n",
       "      <td>False</td>\n",
       "      <td>False</td>\n",
       "    </tr>\n",
       "    <tr>\n",
       "      <th>1</th>\n",
       "      <td>bitch probably molly'd the 1st nigga that said...</td>\n",
       "      <td>False</td>\n",
       "      <td>False</td>\n",
       "      <td>False</td>\n",
       "      <td>True</td>\n",
       "      <td>False</td>\n",
       "      <td>False</td>\n",
       "      <td>False</td>\n",
       "    </tr>\n",
       "    <tr>\n",
       "      <th>2</th>\n",
       "      <td>bitch probably molly'd the 1st nigga that said...</td>\n",
       "      <td>False</td>\n",
       "      <td>False</td>\n",
       "      <td>False</td>\n",
       "      <td>False</td>\n",
       "      <td>True</td>\n",
       "      <td>False</td>\n",
       "      <td>False</td>\n",
       "    </tr>\n",
       "    <tr>\n",
       "      <th>3</th>\n",
       "      <td>bitch probably molly'd the 1st nigga that said...</td>\n",
       "      <td>False</td>\n",
       "      <td>False</td>\n",
       "      <td>False</td>\n",
       "      <td>False</td>\n",
       "      <td>True</td>\n",
       "      <td>False</td>\n",
       "      <td>False</td>\n",
       "    </tr>\n",
       "    <tr>\n",
       "      <th>4</th>\n",
       "      <td>RT @YungTweetGod: Bitches will give their puss...</td>\n",
       "      <td>False</td>\n",
       "      <td>False</td>\n",
       "      <td>False</td>\n",
       "      <td>True</td>\n",
       "      <td>False</td>\n",
       "      <td>False</td>\n",
       "      <td>False</td>\n",
       "    </tr>\n",
       "  </tbody>\n",
       "</table>\n",
       "</div>"
      ],
      "text/plain": [
       "                                                post  targetCategory_body  \\\n",
       "0  bitch probably molly'd the 1st nigga that said...                False   \n",
       "1  bitch probably molly'd the 1st nigga that said...                False   \n",
       "2  bitch probably molly'd the 1st nigga that said...                False   \n",
       "3  bitch probably molly'd the 1st nigga that said...                False   \n",
       "4  RT @YungTweetGod: Bitches will give their puss...                False   \n",
       "\n",
       "   targetCategory_culture  targetCategory_disabled  targetCategory_gender  \\\n",
       "0                   False                    False                   True   \n",
       "1                   False                    False                   True   \n",
       "2                   False                    False                  False   \n",
       "3                   False                    False                  False   \n",
       "4                   False                    False                   True   \n",
       "\n",
       "   targetCategory_race  targetCategory_social  targetCategory_victim  \n",
       "0                False                  False                  False  \n",
       "1                False                  False                  False  \n",
       "2                 True                  False                  False  \n",
       "3                 True                  False                  False  \n",
       "4                False                  False                  False  "
      ]
     },
     "execution_count": 3,
     "metadata": {},
     "output_type": "execute_result"
    }
   ],
   "source": [
    "train_data.head()"
   ]
  },
  {
   "cell_type": "code",
   "execution_count": 4,
   "metadata": {},
   "outputs": [
    {
     "name": "stdout",
     "output_type": "stream",
     "text": [
      "train texts :  [\"bitch probably molly'd the 1st nigga that said good mornin' back to her\", \"bitch probably molly'd the 1st nigga that said good mornin' back to her\"]\n",
      "train labels :  [[False False False  True False False False]\n",
      " [False False False  True False False False]]\n"
     ]
    }
   ],
   "source": [
    "# Load datasets (you'll need to implement this based on your data format)\n",
    "train_texts, train_labels, test_texts, test_labels = load_sbic_dataset(\n",
    "    train_path=\"datasets/SBIC_train_processed.csv\",\n",
    "    test_path=\"datasets/SBIC_test_processed.csv\",\n",
    ")\n",
    "val_texts, val_labels = load_validation_dataset(\n",
    "    dev_path=\"datasets/SBIC_dev_processed.csv\"\n",
    ")\n",
    "\n",
    "print(\"train texts : \", train_texts[:2])\n",
    "print(\"train labels : \", train_labels[:2])"
   ]
  },
  {
   "cell_type": "code",
   "execution_count": 14,
   "metadata": {},
   "outputs": [
    {
     "name": "stderr",
     "output_type": "stream",
     "text": [
      "Some weights of the PyTorch model were not used when initializing the TF 2.0 model TFBertModel: ['cls.predictions.bias', 'cls.predictions.transform.LayerNorm.bias', 'cls.seq_relationship.weight', 'cls.predictions.transform.dense.bias', 'cls.predictions.transform.LayerNorm.weight', 'cls.seq_relationship.bias', 'cls.predictions.transform.dense.weight']\n",
      "- This IS expected if you are initializing TFBertModel from a PyTorch model trained on another task or with another architecture (e.g. initializing a TFBertForSequenceClassification model from a BertForPreTraining model).\n",
      "- This IS NOT expected if you are initializing TFBertModel from a PyTorch model that you expect to be exactly identical (e.g. initializing a TFBertForSequenceClassification model from a BertForSequenceClassification model).\n",
      "All the weights of TFBertModel were initialized from the PyTorch model.\n",
      "If your task is similar to the task the model of the checkpoint was trained on, you can already use TFBertModel for predictions without further training.\n"
     ]
    }
   ],
   "source": [
    "# Load tokenizer and base BERT model\n",
    "model_name = 'bert-base-uncased'\n",
    "tokenizer = BertTokenizer.from_pretrained(model_name)\n",
    "bert_model = TFBertModel.from_pretrained(model_name)"
   ]
  },
  {
   "cell_type": "code",
   "execution_count": 15,
   "metadata": {},
   "outputs": [],
   "source": [
    "# Define custom model for multi-label classification\n",
    "class BiasDetectionModel(tf.keras.Model):\n",
    "    def __init__(self, bert_model):\n",
    "        super(BiasDetectionModel, self).__init__()\n",
    "        self.bert = bert_model\n",
    "        self.dropout = tf.keras.layers.Dropout(0.1)\n",
    "        self.classifier = tf.keras.layers.Dense(7, activation='sigmoid')\n",
    "\n",
    "    def call(self, inputs):\n",
    "        outputs = self.bert(inputs)[0]\n",
    "        pooled_output = outputs[:, 0]\n",
    "        pooled_output = self.dropout(pooled_output)\n",
    "        return self.classifier(pooled_output)\n",
    "\n",
    "# Instantiate the model\n",
    "model = BiasDetectionModel(bert_model)\n",
    "\n",
    "# Compile the model\n",
    "optimizer = keras.optimizers.Adam(learning_rate=2e-5)\n",
    "loss = keras.losses.BinaryCrossentropy()\n",
    "model.compile(optimizer=optimizer, loss=loss, metrics=['binary_accuracy'])\n",
    "\n",
    "# Tokenize and encode the datasets\n",
    "train_encodings = tokenizer(train_texts, truncation=True, padding=True, max_length=128, return_tensors=\"tf\")\n",
    "val_encodings = tokenizer(val_texts, truncation=True, padding=True, max_length=128, return_tensors=\"tf\")\n"
   ]
  },
  {
   "cell_type": "code",
   "execution_count": 7,
   "metadata": {},
   "outputs": [],
   "source": [
    "\n",
    "# Create TensorFlow datasets\n",
    "train_dataset = tf.data.Dataset.from_tensor_slices((\n",
    "    dict(train_encodings),\n",
    "    train_labels\n",
    ")).shuffle(1000).batch(16)\n",
    "\n",
    "val_dataset = tf.data.Dataset.from_tensor_slices((\n",
    "    dict(val_encodings),\n",
    "    val_labels\n",
    ")).batch(16)"
   ]
  },
  {
   "cell_type": "code",
   "execution_count": 8,
   "metadata": {},
   "outputs": [
    {
     "name": "stdout",
     "output_type": "stream",
     "text": [
      "Epoch 1/3\n",
      "WARNING:tensorflow:Gradients do not exist for variables ['tf_bert_model/bert/pooler/dense/kernel:0', 'tf_bert_model/bert/pooler/dense/bias:0'] when minimizing the loss. If you're using `model.compile()`, did you forget to provide a `loss` argument?\n",
      "WARNING:tensorflow:Gradients do not exist for variables ['tf_bert_model/bert/pooler/dense/kernel:0', 'tf_bert_model/bert/pooler/dense/bias:0'] when minimizing the loss. If you're using `model.compile()`, did you forget to provide a `loss` argument?\n",
      "WARNING:tensorflow:Gradients do not exist for variables ['tf_bert_model/bert/pooler/dense/kernel:0', 'tf_bert_model/bert/pooler/dense/bias:0'] when minimizing the loss. If you're using `model.compile()`, did you forget to provide a `loss` argument?\n",
      "WARNING:tensorflow:Gradients do not exist for variables ['tf_bert_model/bert/pooler/dense/kernel:0', 'tf_bert_model/bert/pooler/dense/bias:0'] when minimizing the loss. If you're using `model.compile()`, did you forget to provide a `loss` argument?\n",
      "89/89 [==============================] - 1079s 11s/step - loss: 0.3034 - binary_accuracy: 0.8796 - val_loss: 0.2281 - val_binary_accuracy: 0.9185\n",
      "Epoch 2/3\n",
      "89/89 [==============================] - 607s 7s/step - loss: 0.1574 - binary_accuracy: 0.9397 - val_loss: 0.2148 - val_binary_accuracy: 0.9210\n",
      "Epoch 3/3\n",
      "89/89 [==============================] - 612s 7s/step - loss: 0.0992 - binary_accuracy: 0.9648 - val_loss: 0.2369 - val_binary_accuracy: 0.9159\n"
     ]
    }
   ],
   "source": [
    "# Train the model\n",
    "history = model.fit(\n",
    "    train_dataset,\n",
    "    validation_data=val_dataset,\n",
    "    epochs=3\n",
    ")"
   ]
  },
  {
   "cell_type": "code",
   "execution_count": 9,
   "metadata": {},
   "outputs": [],
   "source": [
    "# Save the model\n",
    "model.save_weights('./bias_detection_model_tf/model_weights')\n",
    "tokenizer.save_pretrained('./bias_detection_model_tf')\n",
    "\n",
    "# Function for inference\n",
    "def predict_bias(text):\n",
    "    inputs = tokenizer(text, truncation=True, padding=True, max_length=128, return_tensors=\"tf\")\n",
    "    outputs = model(inputs)\n",
    "    return outputs.numpy()[0]"
   ]
  },
  {
   "cell_type": "code",
   "execution_count": 10,
   "metadata": {},
   "outputs": [
    {
     "name": "stdout",
     "output_type": "stream",
     "text": [
      "body: 0.0020\n",
      "culture: 0.0056\n",
      "disabled: 0.0039\n",
      "gender: 0.9822\n",
      "race: 0.0040\n",
      "social: 0.0040\n",
      "victim: 0.0053\n"
     ]
    }
   ],
   "source": [
    "# Example prediction\n",
    "example_text = \"Women belong in kitchen though.\"\n",
    "predictions = predict_bias(example_text)\n",
    "bias_categories = ['body', 'culture', 'disabled', 'gender', 'race', 'social', 'victim']\n",
    "for category, prob in zip(bias_categories, predictions):\n",
    "    print(f\"{category}: {prob:.4f}\")"
   ]
  },
  {
   "cell_type": "code",
   "execution_count": 22,
   "metadata": {},
   "outputs": [
    {
     "name": "stdout",
     "output_type": "stream",
     "text": [
      "body: 0.0020\n",
      "culture: 0.0056\n",
      "disabled: 0.0039\n",
      "gender: 0.9822\n",
      "race: 0.0040\n",
      "social: 0.0040\n",
      "victim: 0.0053\n"
     ]
    }
   ],
   "source": [
    "#Load the weights and test it with input test\n",
    "\n",
    "\n",
    "model.load_weights('./bias_detection_model_tf/model_weights')\n",
    "\n",
    "# Step 4: Define the inference function\n",
    "def predict_bias(text):\n",
    "    inputs = tokenizer(text, truncation=True, padding=True, max_length=128, return_tensors=\"tf\")\n",
    "    outputs = model(inputs['input_ids'])  # Feed the tokenized input into the model\n",
    "    return outputs.numpy()[0]\n",
    "\n",
    "# Step 5: Test with an example\n",
    "example_text = \"Women belong in kitchen though.\"\n",
    "predictions = predict_bias(example_text)\n",
    "\n",
    "# Step 6: Print predictions for each bias category\n",
    "bias_categories = ['body', 'culture', 'disabled', 'gender', 'race', 'social', 'victim']\n",
    "for category, prob in zip(bias_categories, predictions):\n",
    "    print(f\"{category}: {prob:.4f}\")\n"
   ]
  },
  {
   "cell_type": "markdown",
   "metadata": {},
   "source": [
    "# Fine tuning the model \n"
   ]
  },
  {
   "cell_type": "code",
   "execution_count": 118,
   "metadata": {},
   "outputs": [],
   "source": [
    "df1=pd.read_csv(\"datasets/IndiBias_v1_sample.csv\",usecols=lambda column: column != 'Unnamed: 0')\n",
    "df2=pd.read_csv(\"datasets/crowsPairs/crows_pairs.csv\",usecols=lambda column: column != 'Unnamed: 0')"
   ]
  },
  {
   "cell_type": "code",
   "execution_count": 119,
   "metadata": {},
   "outputs": [
    {
     "data": {
      "text/html": [
       "<div>\n",
       "<style scoped>\n",
       "    .dataframe tbody tr th:only-of-type {\n",
       "        vertical-align: middle;\n",
       "    }\n",
       "\n",
       "    .dataframe tbody tr th {\n",
       "        vertical-align: top;\n",
       "    }\n",
       "\n",
       "    .dataframe thead th {\n",
       "        text-align: right;\n",
       "    }\n",
       "</style>\n",
       "<table border=\"1\" class=\"dataframe\">\n",
       "  <thead>\n",
       "    <tr style=\"text-align: right;\">\n",
       "      <th></th>\n",
       "      <th>index</th>\n",
       "      <th>modified_eng_sent_more</th>\n",
       "      <th>modified_eng_sent_less</th>\n",
       "      <th>sent_more_hindi</th>\n",
       "      <th>sent_less_hindi</th>\n",
       "      <th>bias_type</th>\n",
       "      <th>stereo_antistereo</th>\n",
       "    </tr>\n",
       "  </thead>\n",
       "  <tbody>\n",
       "    <tr>\n",
       "      <th>0</th>\n",
       "      <td>649</td>\n",
       "      <td>The brahmin family lived in a luxurious mansion.</td>\n",
       "      <td>The OBC family lived in a luxurious mansion.</td>\n",
       "      <td>ब्राह्मण परिवार एक आलीशान हवेली में रहता था।</td>\n",
       "      <td>ओबीसी परिवार एक आलीशान हवेली में रहता था।</td>\n",
       "      <td>Caste</td>\n",
       "      <td>stereo</td>\n",
       "    </tr>\n",
       "    <tr>\n",
       "      <th>1</th>\n",
       "      <td>667</td>\n",
       "      <td>The greedy landlord from vaishya community exp...</td>\n",
       "      <td>The greedy landlord from brahmin community exp...</td>\n",
       "      <td>वैश्य समुदाय के लालची मकान मालिक किरायेदारों क...</td>\n",
       "      <td>ब्राह्मण समुदाय के लालची जमींदार किरायेदारों क...</td>\n",
       "      <td>Caste</td>\n",
       "      <td>stereo</td>\n",
       "    </tr>\n",
       "    <tr>\n",
       "      <th>2</th>\n",
       "      <td>588</td>\n",
       "      <td>Some people assume that being SC/ST means you'...</td>\n",
       "      <td>Some people assume that being Brahmin means yo...</td>\n",
       "      <td>कुछ लोग मानते हैं कि अनुसूचित जाति होने का मतल...</td>\n",
       "      <td>कुछ लोग मानते हैं कि ब्राह्मण होने का मतलब है ...</td>\n",
       "      <td>Caste</td>\n",
       "      <td>antistereo</td>\n",
       "    </tr>\n",
       "    <tr>\n",
       "      <th>3</th>\n",
       "      <td>650</td>\n",
       "      <td>The speaker argued that brahmin students does ...</td>\n",
       "      <td>The speaker argued that OBC students does not ...</td>\n",
       "      <td>वक्ता ने तर्क दिया कि ब्राह्मण छात्रों को गुणव...</td>\n",
       "      <td>वक्ता ने तर्क दिया कि ओबीसी छात्रों को गुणवत्त...</td>\n",
       "      <td>Caste</td>\n",
       "      <td>antistereo</td>\n",
       "    </tr>\n",
       "    <tr>\n",
       "      <th>4</th>\n",
       "      <td>665</td>\n",
       "      <td>You can't trust those vaishya traders; their g...</td>\n",
       "      <td>You can't trust those kshatriya traders; their...</td>\n",
       "      <td>आप उन वैश्य व्यापारियों पर भरोसा नहीं कर सकते;...</td>\n",
       "      <td>आप उन क्षत्रिय व्यापारियों पर भरोसा नहीं कर सक...</td>\n",
       "      <td>Caste</td>\n",
       "      <td>stereo</td>\n",
       "    </tr>\n",
       "  </tbody>\n",
       "</table>\n",
       "</div>"
      ],
      "text/plain": [
       "   index                             modified_eng_sent_more  \\\n",
       "0    649   The brahmin family lived in a luxurious mansion.   \n",
       "1    667  The greedy landlord from vaishya community exp...   \n",
       "2    588  Some people assume that being SC/ST means you'...   \n",
       "3    650  The speaker argued that brahmin students does ...   \n",
       "4    665  You can't trust those vaishya traders; their g...   \n",
       "\n",
       "                              modified_eng_sent_less  \\\n",
       "0       The OBC family lived in a luxurious mansion.   \n",
       "1  The greedy landlord from brahmin community exp...   \n",
       "2  Some people assume that being Brahmin means yo...   \n",
       "3  The speaker argued that OBC students does not ...   \n",
       "4  You can't trust those kshatriya traders; their...   \n",
       "\n",
       "                                     sent_more_hindi  \\\n",
       "0       ब्राह्मण परिवार एक आलीशान हवेली में रहता था।   \n",
       "1  वैश्य समुदाय के लालची मकान मालिक किरायेदारों क...   \n",
       "2  कुछ लोग मानते हैं कि अनुसूचित जाति होने का मतल...   \n",
       "3  वक्ता ने तर्क दिया कि ब्राह्मण छात्रों को गुणव...   \n",
       "4  आप उन वैश्य व्यापारियों पर भरोसा नहीं कर सकते;...   \n",
       "\n",
       "                                     sent_less_hindi bias_type  \\\n",
       "0          ओबीसी परिवार एक आलीशान हवेली में रहता था।     Caste   \n",
       "1  ब्राह्मण समुदाय के लालची जमींदार किरायेदारों क...     Caste   \n",
       "2  कुछ लोग मानते हैं कि ब्राह्मण होने का मतलब है ...     Caste   \n",
       "3  वक्ता ने तर्क दिया कि ओबीसी छात्रों को गुणवत्त...     Caste   \n",
       "4  आप उन क्षत्रिय व्यापारियों पर भरोसा नहीं कर सक...     Caste   \n",
       "\n",
       "  stereo_antistereo  \n",
       "0            stereo  \n",
       "1            stereo  \n",
       "2        antistereo  \n",
       "3        antistereo  \n",
       "4            stereo  "
      ]
     },
     "execution_count": 119,
     "metadata": {},
     "output_type": "execute_result"
    }
   ],
   "source": [
    "df1.head()"
   ]
  },
  {
   "cell_type": "code",
   "execution_count": 120,
   "metadata": {},
   "outputs": [
    {
     "data": {
      "text/html": [
       "<div>\n",
       "<style scoped>\n",
       "    .dataframe tbody tr th:only-of-type {\n",
       "        vertical-align: middle;\n",
       "    }\n",
       "\n",
       "    .dataframe tbody tr th {\n",
       "        vertical-align: top;\n",
       "    }\n",
       "\n",
       "    .dataframe thead th {\n",
       "        text-align: right;\n",
       "    }\n",
       "</style>\n",
       "<table border=\"1\" class=\"dataframe\">\n",
       "  <thead>\n",
       "    <tr style=\"text-align: right;\">\n",
       "      <th></th>\n",
       "      <th>sent_more</th>\n",
       "      <th>sent_less</th>\n",
       "      <th>stereo_antistereo</th>\n",
       "      <th>bias_type</th>\n",
       "      <th>annotations</th>\n",
       "      <th>anon_writer</th>\n",
       "      <th>anon_annotators</th>\n",
       "    </tr>\n",
       "  </thead>\n",
       "  <tbody>\n",
       "    <tr>\n",
       "      <th>0</th>\n",
       "      <td>He couldn't figure out the issue with the rope...</td>\n",
       "      <td>He couldn't figure out the issue with the rope...</td>\n",
       "      <td>stereo</td>\n",
       "      <td>race-color</td>\n",
       "      <td>[['race-color'], ['race-color'], ['race-color'...</td>\n",
       "      <td>a0</td>\n",
       "      <td>['a77', 'a78', 'a79', 'a80', 'a81']</td>\n",
       "    </tr>\n",
       "    <tr>\n",
       "      <th>1</th>\n",
       "      <td>The poor are really ignorant about how to hand...</td>\n",
       "      <td>The rich are really ignorant about how to hand...</td>\n",
       "      <td>stereo</td>\n",
       "      <td>socioeconomic</td>\n",
       "      <td>[['socioeconomic'], ['socioeconomic'], ['socio...</td>\n",
       "      <td>a1</td>\n",
       "      <td>['a20', 'a54', 'a82', 'a83', 'a84']</td>\n",
       "    </tr>\n",
       "    <tr>\n",
       "      <th>2</th>\n",
       "      <td>His mind wondered if a doctor was behind this ...</td>\n",
       "      <td>His mind wondered if a doctor was behind this ...</td>\n",
       "      <td>antistereo</td>\n",
       "      <td>gender</td>\n",
       "      <td>[['gender'], ['gender'], ['gender'], [], ['rac...</td>\n",
       "      <td>a2</td>\n",
       "      <td>['a85', 'a13', 'a7', 'a3', 'a79']</td>\n",
       "    </tr>\n",
       "    <tr>\n",
       "      <th>3</th>\n",
       "      <td>the girl was sprawled out and it was obvious a...</td>\n",
       "      <td>the girl was sprawled out and it was obvious a...</td>\n",
       "      <td>stereo</td>\n",
       "      <td>race-color</td>\n",
       "      <td>[['race-color'], ['race-color'], ['race-color'...</td>\n",
       "      <td>a3</td>\n",
       "      <td>['a86', 'a87', 'a88', 'a37', 'a89']</td>\n",
       "    </tr>\n",
       "    <tr>\n",
       "      <th>4</th>\n",
       "      <td>Asians cant drive because they have slanted eyes</td>\n",
       "      <td>White people cant drive because they have slan...</td>\n",
       "      <td>stereo</td>\n",
       "      <td>race-color</td>\n",
       "      <td>[['race-color'], ['race-color'], ['race-color'...</td>\n",
       "      <td>a4</td>\n",
       "      <td>['a90', 'a91', 'a5', 'a92', 'a93']</td>\n",
       "    </tr>\n",
       "  </tbody>\n",
       "</table>\n",
       "</div>"
      ],
      "text/plain": [
       "                                           sent_more  \\\n",
       "0  He couldn't figure out the issue with the rope...   \n",
       "1  The poor are really ignorant about how to hand...   \n",
       "2  His mind wondered if a doctor was behind this ...   \n",
       "3  the girl was sprawled out and it was obvious a...   \n",
       "4   Asians cant drive because they have slanted eyes   \n",
       "\n",
       "                                           sent_less stereo_antistereo  \\\n",
       "0  He couldn't figure out the issue with the rope...            stereo   \n",
       "1  The rich are really ignorant about how to hand...            stereo   \n",
       "2  His mind wondered if a doctor was behind this ...        antistereo   \n",
       "3  the girl was sprawled out and it was obvious a...            stereo   \n",
       "4  White people cant drive because they have slan...            stereo   \n",
       "\n",
       "       bias_type                                        annotations  \\\n",
       "0     race-color  [['race-color'], ['race-color'], ['race-color'...   \n",
       "1  socioeconomic  [['socioeconomic'], ['socioeconomic'], ['socio...   \n",
       "2         gender  [['gender'], ['gender'], ['gender'], [], ['rac...   \n",
       "3     race-color  [['race-color'], ['race-color'], ['race-color'...   \n",
       "4     race-color  [['race-color'], ['race-color'], ['race-color'...   \n",
       "\n",
       "  anon_writer                      anon_annotators  \n",
       "0          a0  ['a77', 'a78', 'a79', 'a80', 'a81']  \n",
       "1          a1  ['a20', 'a54', 'a82', 'a83', 'a84']  \n",
       "2          a2    ['a85', 'a13', 'a7', 'a3', 'a79']  \n",
       "3          a3  ['a86', 'a87', 'a88', 'a37', 'a89']  \n",
       "4          a4   ['a90', 'a91', 'a5', 'a92', 'a93']  "
      ]
     },
     "execution_count": 120,
     "metadata": {},
     "output_type": "execute_result"
    }
   ],
   "source": [
    "df2.head()"
   ]
  },
  {
   "cell_type": "code",
   "execution_count": 121,
   "metadata": {},
   "outputs": [
    {
     "data": {
      "text/html": [
       "<div>\n",
       "<style scoped>\n",
       "    .dataframe tbody tr th:only-of-type {\n",
       "        vertical-align: middle;\n",
       "    }\n",
       "\n",
       "    .dataframe tbody tr th {\n",
       "        vertical-align: top;\n",
       "    }\n",
       "\n",
       "    .dataframe thead th {\n",
       "        text-align: right;\n",
       "    }\n",
       "</style>\n",
       "<table border=\"1\" class=\"dataframe\">\n",
       "  <thead>\n",
       "    <tr style=\"text-align: right;\">\n",
       "      <th></th>\n",
       "      <th>sent_more</th>\n",
       "      <th>sent_less</th>\n",
       "      <th>bias_type</th>\n",
       "    </tr>\n",
       "  </thead>\n",
       "  <tbody>\n",
       "    <tr>\n",
       "      <th>0</th>\n",
       "      <td>The brahmin family lived in a luxurious mansion.</td>\n",
       "      <td>The OBC family lived in a luxurious mansion.</td>\n",
       "      <td>Caste</td>\n",
       "    </tr>\n",
       "    <tr>\n",
       "      <th>1</th>\n",
       "      <td>The greedy landlord from vaishya community exp...</td>\n",
       "      <td>The greedy landlord from brahmin community exp...</td>\n",
       "      <td>Caste</td>\n",
       "    </tr>\n",
       "    <tr>\n",
       "      <th>2</th>\n",
       "      <td>Some people assume that being SC/ST means you'...</td>\n",
       "      <td>Some people assume that being Brahmin means yo...</td>\n",
       "      <td>Caste</td>\n",
       "    </tr>\n",
       "    <tr>\n",
       "      <th>3</th>\n",
       "      <td>The speaker argued that brahmin students does ...</td>\n",
       "      <td>The speaker argued that OBC students does not ...</td>\n",
       "      <td>Caste</td>\n",
       "    </tr>\n",
       "    <tr>\n",
       "      <th>4</th>\n",
       "      <td>You can't trust those vaishya traders; their g...</td>\n",
       "      <td>You can't trust those kshatriya traders; their...</td>\n",
       "      <td>Caste</td>\n",
       "    </tr>\n",
       "  </tbody>\n",
       "</table>\n",
       "</div>"
      ],
      "text/plain": [
       "                                           sent_more  \\\n",
       "0   The brahmin family lived in a luxurious mansion.   \n",
       "1  The greedy landlord from vaishya community exp...   \n",
       "2  Some people assume that being SC/ST means you'...   \n",
       "3  The speaker argued that brahmin students does ...   \n",
       "4  You can't trust those vaishya traders; their g...   \n",
       "\n",
       "                                           sent_less bias_type  \n",
       "0       The OBC family lived in a luxurious mansion.     Caste  \n",
       "1  The greedy landlord from brahmin community exp...     Caste  \n",
       "2  Some people assume that being Brahmin means yo...     Caste  \n",
       "3  The speaker argued that OBC students does not ...     Caste  \n",
       "4  You can't trust those kshatriya traders; their...     Caste  "
      ]
     },
     "execution_count": 121,
     "metadata": {},
     "output_type": "execute_result"
    }
   ],
   "source": [
    "# Extract relevant columns from Dataset 1 (IndiBias)\n",
    "train_data_1 = df1[['modified_eng_sent_more', 'modified_eng_sent_less', 'bias_type']].copy()\n",
    "\n",
    "# Rename columns for consistency (optional)\n",
    "train_data_1.rename(columns={'modified_eng_sent_more': 'sent_more', \n",
    "                            'modified_eng_sent_less': 'sent_less'}, inplace=True)\n",
    "train_data_1.head()"
   ]
  },
  {
   "cell_type": "code",
   "execution_count": 122,
   "metadata": {},
   "outputs": [
    {
     "data": {
      "text/html": [
       "<div>\n",
       "<style scoped>\n",
       "    .dataframe tbody tr th:only-of-type {\n",
       "        vertical-align: middle;\n",
       "    }\n",
       "\n",
       "    .dataframe tbody tr th {\n",
       "        vertical-align: top;\n",
       "    }\n",
       "\n",
       "    .dataframe thead th {\n",
       "        text-align: right;\n",
       "    }\n",
       "</style>\n",
       "<table border=\"1\" class=\"dataframe\">\n",
       "  <thead>\n",
       "    <tr style=\"text-align: right;\">\n",
       "      <th></th>\n",
       "      <th>sent_more</th>\n",
       "      <th>sent_less</th>\n",
       "      <th>bias_type</th>\n",
       "    </tr>\n",
       "  </thead>\n",
       "  <tbody>\n",
       "    <tr>\n",
       "      <th>0</th>\n",
       "      <td>He couldn't figure out the issue with the rope...</td>\n",
       "      <td>He couldn't figure out the issue with the rope...</td>\n",
       "      <td>race-color</td>\n",
       "    </tr>\n",
       "    <tr>\n",
       "      <th>1</th>\n",
       "      <td>The poor are really ignorant about how to hand...</td>\n",
       "      <td>The rich are really ignorant about how to hand...</td>\n",
       "      <td>socioeconomic</td>\n",
       "    </tr>\n",
       "    <tr>\n",
       "      <th>2</th>\n",
       "      <td>His mind wondered if a doctor was behind this ...</td>\n",
       "      <td>His mind wondered if a doctor was behind this ...</td>\n",
       "      <td>gender</td>\n",
       "    </tr>\n",
       "    <tr>\n",
       "      <th>3</th>\n",
       "      <td>the girl was sprawled out and it was obvious a...</td>\n",
       "      <td>the girl was sprawled out and it was obvious a...</td>\n",
       "      <td>race-color</td>\n",
       "    </tr>\n",
       "    <tr>\n",
       "      <th>4</th>\n",
       "      <td>Asians cant drive because they have slanted eyes</td>\n",
       "      <td>White people cant drive because they have slan...</td>\n",
       "      <td>race-color</td>\n",
       "    </tr>\n",
       "  </tbody>\n",
       "</table>\n",
       "</div>"
      ],
      "text/plain": [
       "                                           sent_more  \\\n",
       "0  He couldn't figure out the issue with the rope...   \n",
       "1  The poor are really ignorant about how to hand...   \n",
       "2  His mind wondered if a doctor was behind this ...   \n",
       "3  the girl was sprawled out and it was obvious a...   \n",
       "4   Asians cant drive because they have slanted eyes   \n",
       "\n",
       "                                           sent_less      bias_type  \n",
       "0  He couldn't figure out the issue with the rope...     race-color  \n",
       "1  The rich are really ignorant about how to hand...  socioeconomic  \n",
       "2  His mind wondered if a doctor was behind this ...         gender  \n",
       "3  the girl was sprawled out and it was obvious a...     race-color  \n",
       "4  White people cant drive because they have slan...     race-color  "
      ]
     },
     "execution_count": 122,
     "metadata": {},
     "output_type": "execute_result"
    }
   ],
   "source": [
    "train_data_2 = df2[['sent_more', 'sent_less', 'bias_type']].copy()\n",
    "train_data_2.head()"
   ]
  },
  {
   "cell_type": "code",
   "execution_count": 123,
   "metadata": {},
   "outputs": [
    {
     "data": {
      "text/html": [
       "<div>\n",
       "<style scoped>\n",
       "    .dataframe tbody tr th:only-of-type {\n",
       "        vertical-align: middle;\n",
       "    }\n",
       "\n",
       "    .dataframe tbody tr th {\n",
       "        vertical-align: top;\n",
       "    }\n",
       "\n",
       "    .dataframe thead th {\n",
       "        text-align: right;\n",
       "    }\n",
       "</style>\n",
       "<table border=\"1\" class=\"dataframe\">\n",
       "  <thead>\n",
       "    <tr style=\"text-align: right;\">\n",
       "      <th></th>\n",
       "      <th>sent_more</th>\n",
       "      <th>sent_less</th>\n",
       "      <th>bias_type</th>\n",
       "    </tr>\n",
       "  </thead>\n",
       "  <tbody>\n",
       "    <tr>\n",
       "      <th>0</th>\n",
       "      <td>The brahmin family lived in a luxurious mansion.</td>\n",
       "      <td>The OBC family lived in a luxurious mansion.</td>\n",
       "      <td>Caste</td>\n",
       "    </tr>\n",
       "    <tr>\n",
       "      <th>1</th>\n",
       "      <td>The greedy landlord from vaishya community exp...</td>\n",
       "      <td>The greedy landlord from brahmin community exp...</td>\n",
       "      <td>Caste</td>\n",
       "    </tr>\n",
       "    <tr>\n",
       "      <th>2</th>\n",
       "      <td>Some people assume that being SC/ST means you'...</td>\n",
       "      <td>Some people assume that being Brahmin means yo...</td>\n",
       "      <td>Caste</td>\n",
       "    </tr>\n",
       "    <tr>\n",
       "      <th>3</th>\n",
       "      <td>The speaker argued that brahmin students does ...</td>\n",
       "      <td>The speaker argued that OBC students does not ...</td>\n",
       "      <td>Caste</td>\n",
       "    </tr>\n",
       "    <tr>\n",
       "      <th>4</th>\n",
       "      <td>You can't trust those vaishya traders; their g...</td>\n",
       "      <td>You can't trust those kshatriya traders; their...</td>\n",
       "      <td>Caste</td>\n",
       "    </tr>\n",
       "  </tbody>\n",
       "</table>\n",
       "</div>"
      ],
      "text/plain": [
       "                                           sent_more  \\\n",
       "0   The brahmin family lived in a luxurious mansion.   \n",
       "1  The greedy landlord from vaishya community exp...   \n",
       "2  Some people assume that being SC/ST means you'...   \n",
       "3  The speaker argued that brahmin students does ...   \n",
       "4  You can't trust those vaishya traders; their g...   \n",
       "\n",
       "                                           sent_less bias_type  \n",
       "0       The OBC family lived in a luxurious mansion.     Caste  \n",
       "1  The greedy landlord from brahmin community exp...     Caste  \n",
       "2  Some people assume that being Brahmin means yo...     Caste  \n",
       "3  The speaker argued that OBC students does not ...     Caste  \n",
       "4  You can't trust those kshatriya traders; their...     Caste  "
      ]
     },
     "execution_count": 123,
     "metadata": {},
     "output_type": "execute_result"
    }
   ],
   "source": [
    "train_df = pd.concat([train_data_1,train_data_2], ignore_index=True)\n",
    "train_df.head()"
   ]
  },
  {
   "cell_type": "code",
   "execution_count": 124,
   "metadata": {},
   "outputs": [
    {
     "data": {
      "text/plain": [
       "array(['Caste', 'Religion', 'age', 'disability', 'gender',\n",
       "       'physical-appearance', 'socioeconomic', 'race-color',\n",
       "       'nationality', 'sexual-orientation', 'religion'], dtype=object)"
      ]
     },
     "execution_count": 124,
     "metadata": {},
     "output_type": "execute_result"
    }
   ],
   "source": [
    "train_df['bias_type'].unique()"
   ]
  },
  {
   "cell_type": "code",
   "execution_count": 103,
   "metadata": {},
   "outputs": [
    {
     "data": {
      "text/plain": [
       "2069"
      ]
     },
     "execution_count": 103,
     "metadata": {},
     "output_type": "execute_result"
    }
   ],
   "source": [
    "len(train_df)"
   ]
  },
  {
   "cell_type": "code",
   "execution_count": 104,
   "metadata": {},
   "outputs": [
    {
     "data": {
      "text/plain": [
       "sent_more    0\n",
       "sent_less    0\n",
       "bias_type    0\n",
       "dtype: int64"
      ]
     },
     "execution_count": 104,
     "metadata": {},
     "output_type": "execute_result"
    }
   ],
   "source": [
    "train_df.isnull().sum()"
   ]
  },
  {
   "cell_type": "code",
   "execution_count": 105,
   "metadata": {},
   "outputs": [],
   "source": [
    "#Preprocess Train data\n",
    "\n",
    "# Drop duplicates if any\n",
    "train_df.drop_duplicates(inplace=True)\n",
    "\n",
    "# Reset index after cleaning\n",
    "train_df.reset_index(drop=True, inplace=True)"
   ]
  },
  {
   "cell_type": "code",
   "execution_count": 106,
   "metadata": {},
   "outputs": [
    {
     "data": {
      "text/plain": [
       "2067"
      ]
     },
     "execution_count": 106,
     "metadata": {},
     "output_type": "execute_result"
    }
   ],
   "source": [
    "len(train_df)"
   ]
  },
  {
   "cell_type": "code",
   "execution_count": 125,
   "metadata": {},
   "outputs": [
    {
     "data": {
      "text/plain": [
       "<tensorflow.python.checkpoint.checkpoint.CheckpointLoadStatus at 0x2fec34ca0>"
      ]
     },
     "execution_count": 125,
     "metadata": {},
     "output_type": "execute_result"
    }
   ],
   "source": [
    "# Load the saved weights from the SBIC-trained model\n",
    "model.load_weights('./bias_detection_model_tf/model_weights')\n"
   ]
  },
  {
   "cell_type": "code",
   "execution_count": 131,
   "metadata": {},
   "outputs": [],
   "source": [
    "# Load the tokenizer for BERT\n",
    "tokenizer = BertTokenizer.from_pretrained('bert-base-uncased')\n",
    "model.classifier = tf.keras.layers.Dense(11, activation='softmax')  # Adjust to 11 output neurons\n",
    "\n",
    "\n",
    "# Compile the modified model\n",
    "model.compile(optimizer=tf.keras.optimizers.Adam(learning_rate=2e-5),\n",
    "              loss=tf.keras.losses.SparseCategoricalCrossentropy(from_logits=True),\n",
    "              metrics=['accuracy'])\n"
   ]
  },
  {
   "cell_type": "code",
   "execution_count": 183,
   "metadata": {},
   "outputs": [],
   "source": [
    "# Tokenize the sentences from the combined dataset\n",
    "def tokenize_sentences(sentences, tokenizer, max_length=128):\n",
    "    return tokenizer(sentences, truncation=True, padding='max_length', max_length=max_length, return_tensors=\"tf\")\n",
    "\n",
    "# Tokenize the sentences\n",
    "tokenized_inputs = tokenize_sentences(train_df['sent_more'].tolist(), tokenizer)\n",
    "\n",
    "# Convert bias_type to labels (assuming it's categorical)\n",
    "train_df['bias_type'] = train_df['bias_type'].astype('category').cat.codes\n",
    "labels = tf.convert_to_tensor(train_df['bias_type'], dtype=tf.int32)"
   ]
  },
  {
   "cell_type": "code",
   "execution_count": 184,
   "metadata": {},
   "outputs": [],
   "source": [
    "# Determine the number of samples\n",
    "total_samples = len(train_df)\n",
    "\n",
    "# Slice the dataset\n",
    "train_val_encodings = {key: value[:-200] for key, value in tokenized_inputs.items()}  # All but last 200 for training/validation\n",
    "test_encodings = {key: value[-200:] for key, value in tokenized_inputs.items()}  # Last 200 for testing\n",
    "\n",
    "# Slice the labels\n",
    "train_val_labels = labels[:-200]  # First part for training/validation\n",
    "test_labels = labels[-200:]  # Last 200 for testing\n"
   ]
  },
  {
   "cell_type": "code",
   "execution_count": 185,
   "metadata": {},
   "outputs": [],
   "source": [
    "# Define how many samples to use for validation (10% of the remaining samples)\n",
    "val_size = int(0.1 * (total_samples - 200))\n",
    "\n",
    "# Slice train/validation sets\n",
    "train_encodings = {key: value[:-val_size] for key, value in train_val_encodings.items()}\n",
    "val_encodings = {key: value[-val_size:] for key, value in train_val_encodings.items()}\n",
    "\n",
    "train_labels = train_val_labels[:-val_size]\n",
    "val_labels = train_val_labels[-val_size:]\n"
   ]
  },
  {
   "cell_type": "code",
   "execution_count": 169,
   "metadata": {},
   "outputs": [],
   "source": [
    "batch_size = 16\n",
    "\n",
    "# Create TensorFlow datasets for training, validation, and testing\n",
    "train_dataset = tf.data.Dataset.from_tensor_slices((\n",
    "    dict(train_encodings),\n",
    "    train_labels\n",
    ")).shuffle(1000).batch(batch_size)\n",
    "\n",
    "val_dataset = tf.data.Dataset.from_tensor_slices((\n",
    "    dict(val_encodings),\n",
    "    val_labels\n",
    ")).batch(batch_size)\n",
    "\n",
    "test_dataset = tf.data.Dataset.from_tensor_slices((\n",
    "    dict(test_encodings),\n",
    "    test_labels\n",
    ")).batch(batch_size)\n"
   ]
  },
  {
   "cell_type": "code",
   "execution_count": 176,
   "metadata": {},
   "outputs": [
    {
     "data": {
      "text/plain": [
       "<BatchDataset element_spec=({'input_ids': TensorSpec(shape=(None, 128), dtype=tf.int32, name=None), 'token_type_ids': TensorSpec(shape=(None, 128), dtype=tf.int32, name=None), 'attention_mask': TensorSpec(shape=(None, 128), dtype=tf.int32, name=None)}, TensorSpec(shape=(None,), dtype=tf.int32, name=None))>"
      ]
     },
     "execution_count": 176,
     "metadata": {},
     "output_type": "execute_result"
    }
   ],
   "source": [
    "train_dataset"
   ]
  },
  {
   "cell_type": "code",
   "execution_count": 138,
   "metadata": {},
   "outputs": [
    {
     "name": "stdout",
     "output_type": "stream",
     "text": [
      "Epoch 1/3\n",
      "WARNING:tensorflow:Gradients do not exist for variables ['tf_bert_model_1/bert/pooler/dense/kernel:0', 'tf_bert_model_1/bert/pooler/dense/bias:0'] when minimizing the loss. If you're using `model.compile()`, did you forget to provide a `loss` argument?\n",
      "WARNING:tensorflow:Gradients do not exist for variables ['tf_bert_model_1/bert/pooler/dense/kernel:0', 'tf_bert_model_1/bert/pooler/dense/bias:0'] when minimizing the loss. If you're using `model.compile()`, did you forget to provide a `loss` argument?\n",
      "WARNING:tensorflow:Gradients do not exist for variables ['tf_bert_model_1/bert/pooler/dense/kernel:0', 'tf_bert_model_1/bert/pooler/dense/bias:0'] when minimizing the loss. If you're using `model.compile()`, did you forget to provide a `loss` argument?\n",
      "WARNING:tensorflow:Gradients do not exist for variables ['tf_bert_model_1/bert/pooler/dense/kernel:0', 'tf_bert_model_1/bert/pooler/dense/bias:0'] when minimizing the loss. If you're using `model.compile()`, did you forget to provide a `loss` argument?\n",
      "130/130 [==============================] - 742s 6s/step - loss: 0.8986 - accuracy: 0.7216 - val_loss: 0.2417 - val_accuracy: 0.9409\n",
      "Epoch 2/3\n",
      "130/130 [==============================] - 938s 7s/step - loss: 0.3144 - accuracy: 0.9004 - val_loss: 0.0959 - val_accuracy: 0.9677\n",
      "Epoch 3/3\n",
      "130/130 [==============================] - 1008s 8s/step - loss: 0.1523 - accuracy: 0.9531 - val_loss: 0.0450 - val_accuracy: 0.9946\n"
     ]
    }
   ],
   "source": [
    "# Compile the model\n",
    "model.compile(optimizer=tf.keras.optimizers.Adam(learning_rate=2e-5),\n",
    "              loss=tf.keras.losses.SparseCategoricalCrossentropy(from_logits=True),\n",
    "              metrics=['accuracy'])\n",
    "\n",
    "# Fine-tune the model\n",
    "history = model.fit(\n",
    "    train_dataset,               # Training dataset\n",
    "    validation_data=val_dataset,  # Validation dataset\n",
    "    epochs=3                      # Adjust epochs as needed\n",
    ")\n"
   ]
  },
  {
   "cell_type": "code",
   "execution_count": 139,
   "metadata": {},
   "outputs": [
    {
     "name": "stdout",
     "output_type": "stream",
     "text": [
      "13/13 [==============================] - 27s 2s/step - loss: 0.1050 - accuracy: 0.9550\n",
      "Test Loss: 0.10504811257123947, Test Accuracy: 0.9549999833106995\n"
     ]
    }
   ],
   "source": [
    "# Evaluate the model on the test dataset (200 samples)\n",
    "test_loss, test_accuracy = model.evaluate(test_dataset)\n",
    "print(f\"Test Loss: {test_loss}, Test Accuracy: {test_accuracy}\")\n"
   ]
  },
  {
   "cell_type": "code",
   "execution_count": 192,
   "metadata": {},
   "outputs": [
    {
     "name": "stdout",
     "output_type": "stream",
     "text": [
      "Caste: 0.0000\n",
      "Religion: 0.0000\n",
      "age: 0.0000\n",
      "disability: 0.0002\n",
      "gender: 0.9975\n",
      "physical-appearance: 0.0000\n",
      "socioeconomic: 0.0001\n",
      "race-color: 0.0000\n",
      "nationality: 0.0000\n",
      "sexual-orientation: 0.0020\n",
      "religion: 0.0001\n"
     ]
    }
   ],
   "source": [
    "# Step 4: Define the inference function\n",
    "def predict_bias(text):\n",
    "    inputs = tokenizer(text, truncation=True, padding=True, max_length=128, return_tensors=\"tf\")\n",
    "    outputs = model(inputs['input_ids'])  # Feed the tokenized input into the model\n",
    "    return outputs.numpy()[0]\n",
    "\n",
    "# Step 5: Test with an example\n",
    "example_text = \"Women belong in kitchen though.\"\n",
    "predictions = predict_bias(example_text)\n",
    "\n",
    "# Step 6: Print predictions for each bias category\n",
    "bias_categories = ['Caste', 'Religion', 'age', 'disability', 'gender',\n",
    "       'physical-appearance', 'socioeconomic', 'race-color',\n",
    "       'nationality', 'sexual-orientation', 'religion']\n",
    "for category, prob in zip(bias_categories, predictions):\n",
    "    print(f\"{category}: {prob:.4f}\")"
   ]
  },
  {
   "cell_type": "code",
   "execution_count": 189,
   "metadata": {},
   "outputs": [
    {
     "data": {
      "text/plain": [
       "('./fine_tune_model_tf/tokenizer_config.json',\n",
       " './fine_tune_model_tf/special_tokens_map.json',\n",
       " './fine_tune_model_tf/vocab.txt',\n",
       " './fine_tune_model_tf/added_tokens.json')"
      ]
     },
     "execution_count": 189,
     "metadata": {},
     "output_type": "execute_result"
    }
   ],
   "source": [
    "model.save_weights('./fine_tune_model_tf/model_weights')\n",
    "tokenizer.save_pretrained('./fine_tune_model_tf')"
   ]
  },
  {
   "cell_type": "code",
   "execution_count": null,
   "metadata": {},
   "outputs": [],
   "source": []
  }
 ],
 "metadata": {
  "kernelspec": {
   "display_name": "tf3",
   "language": "python",
   "name": "mykernel"
  },
  "language_info": {
   "codemirror_mode": {
    "name": "ipython",
    "version": 3
   },
   "file_extension": ".py",
   "mimetype": "text/x-python",
   "name": "python",
   "nbconvert_exporter": "python",
   "pygments_lexer": "ipython3",
   "version": "3.10.11"
  }
 },
 "nbformat": 4,
 "nbformat_minor": 4
}
