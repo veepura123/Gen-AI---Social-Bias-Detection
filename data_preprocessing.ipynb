{
 "cells": [
  {
   "cell_type": "code",
   "execution_count": 1,
   "metadata": {},
   "outputs": [],
   "source": [
    "import pandas as pd\n",
    "import numpy as np"
   ]
  },
  {
   "cell_type": "code",
   "execution_count": 2,
   "metadata": {},
   "outputs": [
    {
     "name": "stdout",
     "output_type": "stream",
     "text": [
      "size of data\n",
      "train data:  (112900, 19)\n",
      "test data:  (17501, 19)\n",
      "dev data:  (16738, 19)\n"
     ]
    }
   ],
   "source": [
    "train_data = pd.read_csv(\"datasets/SBIC/SBIC_train.csv\")\n",
    "test_data = pd.read_csv(\"datasets/SBIC/SBIC_test.csv\")\n",
    "dev_data = pd.read_csv(\"datasets/SBIC/SBIC_dev.csv\")\n",
    "\n",
    "\n",
    "print(\"size of data\")\n",
    "print(\"train data: \", train_data.shape)\n",
    "print(\"test data: \", test_data.shape)\n",
    "print(\"dev data: \", dev_data.shape)\n"
   ]
  },
  {
   "cell_type": "code",
   "execution_count": 3,
   "metadata": {},
   "outputs": [
    {
     "name": "stdout",
     "output_type": "stream",
     "text": [
      "size of data after removing null values and duplicates\n",
      "train data:  (1417, 19)\n",
      "test data:  (219, 19)\n",
      "dev data:  (226, 19)\n"
     ]
    }
   ],
   "source": [
    "train_data = train_data.dropna()\n",
    "test_data = test_data.dropna()\n",
    "dev_data = dev_data.dropna()\n",
    "\n",
    "train_data = train_data.drop_duplicates()\n",
    "test_data = test_data.drop_duplicates()\n",
    "dev_data = dev_data.drop_duplicates()\n",
    "\n",
    "print(\"size of data after removing null values and duplicates\")\n",
    "print(\"train data: \", train_data.shape)\n",
    "print(\"test data: \", test_data.shape)\n",
    "print(\"dev data: \", dev_data.shape)"
   ]
  },
  {
   "cell_type": "code",
   "execution_count": 4,
   "metadata": {},
   "outputs": [
    {
     "name": "stdout",
     "output_type": "stream",
     "text": [
      "data types\n",
      "whoTarget            float64\n",
      "intentYN             float64\n",
      "sexYN                float64\n",
      "sexReason             object\n",
      "offensiveYN          float64\n",
      "annotatorGender       object\n",
      "annotatorMinority     object\n",
      "sexPhrase             object\n",
      "speakerMinorityYN    float64\n",
      "WorkerId               int64\n",
      "HITId                 object\n",
      "annotatorPolitics     object\n",
      "annotatorRace         object\n",
      "annotatorAge         float64\n",
      "post                  object\n",
      "targetMinority        object\n",
      "targetCategory        object\n",
      "targetStereotype      object\n",
      "dataSource            object\n",
      "dtype: object\n"
     ]
    }
   ],
   "source": [
    "# print datatype of each column\n",
    "print(\"data types\")\n",
    "print(train_data.dtypes)"
   ]
  },
  {
   "cell_type": "code",
   "execution_count": 5,
   "metadata": {},
   "outputs": [
    {
     "name": "stdout",
     "output_type": "stream",
     "text": [
      "targetCategory\n",
      "['gender' 'race' 'victim' 'social' 'body' 'disabled' 'culture']\n"
     ]
    }
   ],
   "source": [
    "print(\"targetCategory\")\n",
    "print(train_data[\"targetCategory\"].unique())"
   ]
  },
  {
   "cell_type": "code",
   "execution_count": 6,
   "metadata": {},
   "outputs": [],
   "source": [
    "selected_columns = ['post', 'targetCategory']"
   ]
  },
  {
   "cell_type": "code",
   "execution_count": 7,
   "metadata": {},
   "outputs": [
    {
     "data": {
      "text/html": [
       "<div>\n",
       "<style scoped>\n",
       "    .dataframe tbody tr th:only-of-type {\n",
       "        vertical-align: middle;\n",
       "    }\n",
       "\n",
       "    .dataframe tbody tr th {\n",
       "        vertical-align: top;\n",
       "    }\n",
       "\n",
       "    .dataframe thead th {\n",
       "        text-align: right;\n",
       "    }\n",
       "</style>\n",
       "<table border=\"1\" class=\"dataframe\">\n",
       "  <thead>\n",
       "    <tr style=\"text-align: right;\">\n",
       "      <th></th>\n",
       "      <th>post</th>\n",
       "      <th>targetCategory_body</th>\n",
       "      <th>targetCategory_culture</th>\n",
       "      <th>targetCategory_disabled</th>\n",
       "      <th>targetCategory_gender</th>\n",
       "      <th>targetCategory_race</th>\n",
       "      <th>targetCategory_social</th>\n",
       "      <th>targetCategory_victim</th>\n",
       "    </tr>\n",
       "  </thead>\n",
       "  <tbody>\n",
       "    <tr>\n",
       "      <th>72</th>\n",
       "      <td>bitch probably molly'd the 1st nigga that said...</td>\n",
       "      <td>False</td>\n",
       "      <td>False</td>\n",
       "      <td>False</td>\n",
       "      <td>True</td>\n",
       "      <td>False</td>\n",
       "      <td>False</td>\n",
       "      <td>False</td>\n",
       "    </tr>\n",
       "    <tr>\n",
       "      <th>73</th>\n",
       "      <td>bitch probably molly'd the 1st nigga that said...</td>\n",
       "      <td>False</td>\n",
       "      <td>False</td>\n",
       "      <td>False</td>\n",
       "      <td>True</td>\n",
       "      <td>False</td>\n",
       "      <td>False</td>\n",
       "      <td>False</td>\n",
       "    </tr>\n",
       "    <tr>\n",
       "      <th>74</th>\n",
       "      <td>bitch probably molly'd the 1st nigga that said...</td>\n",
       "      <td>False</td>\n",
       "      <td>False</td>\n",
       "      <td>False</td>\n",
       "      <td>False</td>\n",
       "      <td>True</td>\n",
       "      <td>False</td>\n",
       "      <td>False</td>\n",
       "    </tr>\n",
       "    <tr>\n",
       "      <th>75</th>\n",
       "      <td>bitch probably molly'd the 1st nigga that said...</td>\n",
       "      <td>False</td>\n",
       "      <td>False</td>\n",
       "      <td>False</td>\n",
       "      <td>False</td>\n",
       "      <td>True</td>\n",
       "      <td>False</td>\n",
       "      <td>False</td>\n",
       "    </tr>\n",
       "    <tr>\n",
       "      <th>306</th>\n",
       "      <td>RT @YungTweetGod: Bitches will give their puss...</td>\n",
       "      <td>False</td>\n",
       "      <td>False</td>\n",
       "      <td>False</td>\n",
       "      <td>True</td>\n",
       "      <td>False</td>\n",
       "      <td>False</td>\n",
       "      <td>False</td>\n",
       "    </tr>\n",
       "  </tbody>\n",
       "</table>\n",
       "</div>"
      ],
      "text/plain": [
       "                                                  post  targetCategory_body  \\\n",
       "72   bitch probably molly'd the 1st nigga that said...                False   \n",
       "73   bitch probably molly'd the 1st nigga that said...                False   \n",
       "74   bitch probably molly'd the 1st nigga that said...                False   \n",
       "75   bitch probably molly'd the 1st nigga that said...                False   \n",
       "306  RT @YungTweetGod: Bitches will give their puss...                False   \n",
       "\n",
       "     targetCategory_culture  targetCategory_disabled  targetCategory_gender  \\\n",
       "72                    False                    False                   True   \n",
       "73                    False                    False                   True   \n",
       "74                    False                    False                  False   \n",
       "75                    False                    False                  False   \n",
       "306                   False                    False                   True   \n",
       "\n",
       "     targetCategory_race  targetCategory_social  targetCategory_victim  \n",
       "72                 False                  False                  False  \n",
       "73                 False                  False                  False  \n",
       "74                  True                  False                  False  \n",
       "75                  True                  False                  False  \n",
       "306                False                  False                  False  "
      ]
     },
     "execution_count": 7,
     "metadata": {},
     "output_type": "execute_result"
    }
   ],
   "source": [
    "# targetCategory\n",
    "# ['gender' 'race' 'victim' 'social' 'body' 'disabled' 'culture'] convert these into one hot encoding\n",
    "\n",
    "train_data = train_data[selected_columns]\n",
    "test_data = test_data[selected_columns]\n",
    "dev_data = dev_data[selected_columns]\n",
    "\n",
    "train_data = pd.get_dummies(train_data, columns=['targetCategory'])\n",
    "test_data = pd.get_dummies(test_data, columns=['targetCategory'])\n",
    "dev_data = pd.get_dummies(dev_data, columns=['targetCategory'])\n",
    "\n",
    "train_data.head()"
   ]
  },
  {
   "cell_type": "code",
   "execution_count": 8,
   "metadata": {},
   "outputs": [
    {
     "name": "stdout",
     "output_type": "stream",
     "text": [
      "Data dims after selecting columns\n",
      "train data:  (1417, 8)\n",
      "test data:  (219, 8)\n",
      "dev data:  (226, 8)\n"
     ]
    }
   ],
   "source": [
    "print(\"Data dims after selecting columns\")\n",
    "print(\"train data: \", train_data.shape)\n",
    "print(\"test data: \", test_data.shape)\n",
    "print(\"dev data: \", dev_data.shape)\n",
    "\n",
    "train_data.to_csv(\"datasets/SBIC_train_processed.csv\", index=False)\n",
    "test_data.to_csv(\"datasets/SBIC_test_processed.csv\", index=False)\n",
    "dev_data.to_csv(\"datasets/SBIC_dev_processed.csv\", index=False)"
   ]
  },
  {
   "cell_type": "code",
   "execution_count": 9,
   "metadata": {},
   "outputs": [
    {
     "data": {
      "text/html": [
       "<div>\n",
       "<style scoped>\n",
       "    .dataframe tbody tr th:only-of-type {\n",
       "        vertical-align: middle;\n",
       "    }\n",
       "\n",
       "    .dataframe tbody tr th {\n",
       "        vertical-align: top;\n",
       "    }\n",
       "\n",
       "    .dataframe thead th {\n",
       "        text-align: right;\n",
       "    }\n",
       "</style>\n",
       "<table border=\"1\" class=\"dataframe\">\n",
       "  <thead>\n",
       "    <tr style=\"text-align: right;\">\n",
       "      <th></th>\n",
       "      <th>post</th>\n",
       "      <th>targetCategory_body</th>\n",
       "      <th>targetCategory_culture</th>\n",
       "      <th>targetCategory_disabled</th>\n",
       "      <th>targetCategory_gender</th>\n",
       "      <th>targetCategory_race</th>\n",
       "      <th>targetCategory_social</th>\n",
       "      <th>targetCategory_victim</th>\n",
       "    </tr>\n",
       "  </thead>\n",
       "  <tbody>\n",
       "    <tr>\n",
       "      <th>72</th>\n",
       "      <td>bitch probably molly'd the 1st nigga that said...</td>\n",
       "      <td>False</td>\n",
       "      <td>False</td>\n",
       "      <td>False</td>\n",
       "      <td>True</td>\n",
       "      <td>False</td>\n",
       "      <td>False</td>\n",
       "      <td>False</td>\n",
       "    </tr>\n",
       "    <tr>\n",
       "      <th>73</th>\n",
       "      <td>bitch probably molly'd the 1st nigga that said...</td>\n",
       "      <td>False</td>\n",
       "      <td>False</td>\n",
       "      <td>False</td>\n",
       "      <td>True</td>\n",
       "      <td>False</td>\n",
       "      <td>False</td>\n",
       "      <td>False</td>\n",
       "    </tr>\n",
       "    <tr>\n",
       "      <th>74</th>\n",
       "      <td>bitch probably molly'd the 1st nigga that said...</td>\n",
       "      <td>False</td>\n",
       "      <td>False</td>\n",
       "      <td>False</td>\n",
       "      <td>False</td>\n",
       "      <td>True</td>\n",
       "      <td>False</td>\n",
       "      <td>False</td>\n",
       "    </tr>\n",
       "    <tr>\n",
       "      <th>75</th>\n",
       "      <td>bitch probably molly'd the 1st nigga that said...</td>\n",
       "      <td>False</td>\n",
       "      <td>False</td>\n",
       "      <td>False</td>\n",
       "      <td>False</td>\n",
       "      <td>True</td>\n",
       "      <td>False</td>\n",
       "      <td>False</td>\n",
       "    </tr>\n",
       "    <tr>\n",
       "      <th>306</th>\n",
       "      <td>RT @YungTweetGod: Bitches will give their puss...</td>\n",
       "      <td>False</td>\n",
       "      <td>False</td>\n",
       "      <td>False</td>\n",
       "      <td>True</td>\n",
       "      <td>False</td>\n",
       "      <td>False</td>\n",
       "      <td>False</td>\n",
       "    </tr>\n",
       "  </tbody>\n",
       "</table>\n",
       "</div>"
      ],
      "text/plain": [
       "                                                  post  targetCategory_body  \\\n",
       "72   bitch probably molly'd the 1st nigga that said...                False   \n",
       "73   bitch probably molly'd the 1st nigga that said...                False   \n",
       "74   bitch probably molly'd the 1st nigga that said...                False   \n",
       "75   bitch probably molly'd the 1st nigga that said...                False   \n",
       "306  RT @YungTweetGod: Bitches will give their puss...                False   \n",
       "\n",
       "     targetCategory_culture  targetCategory_disabled  targetCategory_gender  \\\n",
       "72                    False                    False                   True   \n",
       "73                    False                    False                   True   \n",
       "74                    False                    False                  False   \n",
       "75                    False                    False                  False   \n",
       "306                   False                    False                   True   \n",
       "\n",
       "     targetCategory_race  targetCategory_social  targetCategory_victim  \n",
       "72                 False                  False                  False  \n",
       "73                 False                  False                  False  \n",
       "74                  True                  False                  False  \n",
       "75                  True                  False                  False  \n",
       "306                False                  False                  False  "
      ]
     },
     "execution_count": 9,
     "metadata": {},
     "output_type": "execute_result"
    }
   ],
   "source": [
    "train_data.head()"
   ]
  },
  {
   "cell_type": "code",
   "execution_count": null,
   "metadata": {},
   "outputs": [],
   "source": []
  }
 ],
 "metadata": {
  "kernelspec": {
   "display_name": ".env",
   "language": "python",
   "name": "python3"
  },
  "language_info": {
   "codemirror_mode": {
    "name": "ipython",
    "version": 3
   },
   "file_extension": ".py",
   "mimetype": "text/x-python",
   "name": "python",
   "nbconvert_exporter": "python",
   "pygments_lexer": "ipython3",
   "version": "3.12.3"
  }
 },
 "nbformat": 4,
 "nbformat_minor": 2
}
